{
  "nbformat": 4,
  "nbformat_minor": 0,
  "metadata": {
    "colab": {
      "name": "gpt3.ipynb",
      "provenance": [],
      "include_colab_link": true
    },
    "kernelspec": {
      "name": "python3",
      "display_name": "Python 3"
    },
    "language_info": {
      "name": "python"
    }
  },
  "cells": [
    {
      "cell_type": "markdown",
      "metadata": {
        "id": "view-in-github",
        "colab_type": "text"
      },
      "source": [
        "<a href=\"https://colab.research.google.com/github/RusMermaid/AI_Digits_Remake_Neo/blob/main/ChatGPT3.ipynb\" target=\"_parent\"><img src=\"https://colab.research.google.com/assets/colab-badge.svg\" alt=\"Open In Colab\"/></a>"
      ]
    },
    {
      "cell_type": "code",
      "metadata": {
        "id": "E9chkLJcd226"
      },
      "source": [
        "!pip install openai"
      ],
      "execution_count": null,
      "outputs": []
    },
    {
      "cell_type": "code",
      "metadata": {
        "id": "9853RCHId6-2"
      },
      "source": [
        "import json\n",
        "import openai\n",
        "\n",
        "openai.api_key = \"--\"      # API 키 입력\n",
        "response = openai.Completion.create(engine=\"davinci\", prompt=\"This is a test\", max_tokens=5)\n",
        "print(response)     # 응답 확인\n"
      ],
      "execution_count": null,
      "outputs": []
    },
    {
      "cell_type": "code",
      "metadata": {
        "id": "iMx1rOyUeHQu"
      },
      "source": [
        "!git clone https://github.com/shreyashankar/gpt3-sandbox.git\n"
      ],
      "execution_count": null,
      "outputs": []
    },
    {
      "cell_type": "code",
      "metadata": {
        "id": "V17RP-mZeKIu"
      },
      "source": [
        "cd gpt3-sandbox\n"
      ],
      "execution_count": null,
      "outputs": []
    },
    {
      "cell_type": "code",
      "metadata": {
        "id": "y6YhRsrJeLjV"
      },
      "source": [
        "!pip install -r api/requirements.txt\n"
      ],
      "execution_count": null,
      "outputs": []
    },
    {
      "cell_type": "code",
      "metadata": {
        "colab": {
          "base_uri": "https://localhost:8080/"
        },
        "id": "l1giMuNueMkm",
        "outputId": "91540c24-9869-4a9e-cd31-1270c2a34c5b"
      },
      "source": [
        "from api import GPT, Example, set_openai_key\n",
        "\n",
        "openai.FineTune.list() "
      ],
      "execution_count": null,
      "outputs": [
        {
          "output_type": "execute_result",
          "data": {
            "text/plain": [
              "<OpenAIObject list at 0x7fe5f823f470> JSON: {\n",
              "  \"data\": [\n",
              "    {\n",
              "      \"created_at\": 1629811713,\n",
              "      \"fine_tuned_model\": null,\n",
              "      \"hyperparams\": {\n",
              "        \"batch_size\": 4,\n",
              "        \"learning_rate_multiplier\": 0.1,\n",
              "        \"n_epochs\": 4,\n",
              "        \"prompt_loss_weight\": 0.1,\n",
              "        \"use_packing\": null\n",
              "      },\n",
              "      \"id\": \"ft-lOERwDyjGa9cmRvxhLXySZ5D\",\n",
              "      \"model\": \"curie\",\n",
              "      \"object\": \"fine-tune\",\n",
              "      \"organization_id\": \"org-NicIj9rmhuLJOc1DBnXx7qxt\",\n",
              "      \"result_files\": [],\n",
              "      \"status\": \"cancelled\",\n",
              "      \"training_files\": [\n",
              "        {\n",
              "          \"bytes\": 1060865,\n",
              "          \"created_at\": 1629811712,\n",
              "          \"filename\": \"final_openapi_prepared.jsonl\",\n",
              "          \"id\": \"file-GHHymTfcgTHF20js4oAW5j3q\",\n",
              "          \"model\": null,\n",
              "          \"object\": \"file\",\n",
              "          \"purpose\": \"fine-tune\",\n",
              "          \"status\": \"processed\",\n",
              "          \"status_details\": null\n",
              "        }\n",
              "      ],\n",
              "      \"updated_at\": 1629811859,\n",
              "      \"user_id\": \"user-QNr4sK9WekrFyXJTw6jB2HWl\",\n",
              "      \"validation_files\": []\n",
              "    },\n",
              "    {\n",
              "      \"created_at\": 1629811961,\n",
              "      \"fine_tuned_model\": \"curie:ft-user-qnr4sk9wekrfyxjtw6jb2hwl-2021-08-24-13-46-43\",\n",
              "      \"hyperparams\": {\n",
              "        \"batch_size\": 4,\n",
              "        \"learning_rate_multiplier\": 0.1,\n",
              "        \"n_epochs\": 4,\n",
              "        \"prompt_loss_weight\": 0.1,\n",
              "        \"use_packing\": null\n",
              "      },\n",
              "      \"id\": \"ft-FO81hx5GgjsZ6OGPlVk1TpVK\",\n",
              "      \"model\": \"curie\",\n",
              "      \"object\": \"fine-tune\",\n",
              "      \"organization_id\": \"org-NicIj9rmhuLJOc1DBnXx7qxt\",\n",
              "      \"result_files\": [\n",
              "        {\n",
              "          \"bytes\": 18609,\n",
              "          \"created_at\": 1629812807,\n",
              "          \"filename\": \"compiled_results.csv\",\n",
              "          \"id\": \"file-BHwhdUqGoK2kVf2Ho3DgqhLJ\",\n",
              "          \"model\": null,\n",
              "          \"object\": \"file\",\n",
              "          \"purpose\": \"fine-tune-results\",\n",
              "          \"status\": \"processed\",\n",
              "          \"status_details\": null\n",
              "        }\n",
              "      ],\n",
              "      \"status\": \"succeeded\",\n",
              "      \"training_files\": [\n",
              "        {\n",
              "          \"bytes\": 1060865,\n",
              "          \"created_at\": 1629811712,\n",
              "          \"filename\": \"final_openapi_prepared.jsonl\",\n",
              "          \"id\": \"file-GHHymTfcgTHF20js4oAW5j3q\",\n",
              "          \"model\": null,\n",
              "          \"object\": \"file\",\n",
              "          \"purpose\": \"fine-tune\",\n",
              "          \"status\": \"processed\",\n",
              "          \"status_details\": null\n",
              "        }\n",
              "      ],\n",
              "      \"updated_at\": 1629812810,\n",
              "      \"user_id\": \"user-QNr4sK9WekrFyXJTw6jB2HWl\",\n",
              "      \"validation_files\": []\n",
              "    }\n",
              "  ],\n",
              "  \"object\": \"list\"\n",
              "}"
            ]
          },
          "metadata": {},
          "execution_count": 7
        }
      ]
    },
    {
      "cell_type": "code",
      "metadata": {
        "id": "7H_Mr3b0eP_2"
      },
      "source": [
        "run = openai.Completion.create(\n",
        "  model=\"curie:ft-user-qnr4sk9wekrfyxjtw6jb2hwl-2021-08-24-13-46-43\",     \n",
        "  prompt=\"Hello there, please help me with programming pointers in Swift\",    \n",
        "  temperature=0.5,     \n",
        "  max_tokens=50,       \n",
        "  n = 5            \n",
        ")\n"
      ],
      "execution_count": null,
      "outputs": []
    },
    {
      "cell_type": "code",
      "metadata": {
        "id": "VlqRPgetes3f"
      },
      "source": [
        "output = [run.choices[0]['text'], run.choices[1]['text'], run.choices[2]['text'], run.choices[3]['text'], run.choices[4]['text']]\n",
        "for i in range(5) :\n",
        "  print(output[i])\n",
        "  print('='*30)\n",
        "# print(output[0])\n",
        "# print(output[1])\n",
        "# print(output[2])\n",
        "# print(output[3])\n",
        "# print(output[4])"
      ],
      "execution_count": null,
      "outputs": []
    }
  ]
}